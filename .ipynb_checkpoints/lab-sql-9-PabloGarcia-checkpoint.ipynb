{
 "cells": [
  {
   "cell_type": "code",
   "execution_count": 1,
   "id": "ea512319",
   "metadata": {},
   "outputs": [],
   "source": [
    "import pandas as pd\n",
    "from sqlalchemy import create_engine\n",
    "import getpass"
   ]
  },
  {
   "cell_type": "code",
   "execution_count": 2,
   "id": "78b45add",
   "metadata": {},
   "outputs": [
    {
     "name": "stdout",
     "output_type": "stream",
     "text": [
      "········\n"
     ]
    }
   ],
   "source": [
    "#Create a Python connection with SQL database and retrieve the results of the last two queries (also mentioned below) as dataframes:\n",
    "\n",
    "password = getpass.getpass()\n",
    "connection_string = 'mysql+pymysql://root:' + password + '@localhost/sakila'\n",
    "engine = create_engine(connection_string)"
   ]
  },
  {
   "cell_type": "code",
   "execution_count": 15,
   "id": "e3f114db",
   "metadata": {},
   "outputs": [
    {
     "data": {
      "text/plain": [
       "(520, 2)"
      ]
     },
     "execution_count": 15,
     "metadata": {},
     "output_type": "execute_result"
    }
   ],
   "source": [
    "# -- Check the number of rentals for each customer for May\n",
    "\n",
    "query1 = \"\"\"\n",
    "        SELECT \n",
    "        customer_id, COUNT(*) AS may_rental\n",
    "        FROM\n",
    "        rentals_may\n",
    "        GROUP BY customer_id;\n",
    "        \"\"\"\n",
    "\n",
    "df_may = pd.read_sql_query(query1, engine)\n",
    "df_may.shape"
   ]
  },
  {
   "cell_type": "code",
   "execution_count": 14,
   "id": "d3b40d4c",
   "metadata": {},
   "outputs": [
    {
     "data": {
      "text/plain": [
       "(590, 2)"
      ]
     },
     "execution_count": 14,
     "metadata": {},
     "output_type": "execute_result"
    }
   ],
   "source": [
    "# -- Check the number of rentals for each customer for June\n",
    "# -- Hint: You can store the results from the two queries in two separate dataframes.\n",
    "\n",
    "query2 = \"\"\"\n",
    "    SELECT \n",
    "    customer_id, COUNT(*) AS june_rental\n",
    "    FROM\n",
    "    rentals_june\n",
    "    GROUP BY customer_id;\n",
    "        \"\"\"\n",
    "\n",
    "df_june = pd.read_sql_query(query2, engine)\n",
    "df_june.shape"
   ]
  },
  {
   "cell_type": "code",
   "execution_count": null,
   "id": "c12f8576",
   "metadata": {},
   "outputs": [],
   "source": [
    "\n",
    "\n",
    "# -- Write a function that checks if customer borrowed more or less films in the month of June as compared to May.\n",
    "\n",
    "# -- Hint: For this part, you can create a join between the two dataframes created before, using the merge function available for pandas dataframes. \n",
    "# Here is a link to the documentation for the merge function."
   ]
  },
  {
   "cell_type": "code",
   "execution_count": 56,
   "id": "8d002a8f",
   "metadata": {},
   "outputs": [],
   "source": [
    "def customer_rental_comparator(df_may, df_june):\n",
    "\n",
    "    customer = int(input('Enter the customer id:'))\n",
    "    df_may_june = df_may.merge(df_june, how='outer', on='customer_id', sort=True)\n",
    "    df_may_june = df_may_june.fillna(0.0)\n",
    "    customer_query = df_may_june[df_may_june['customer_id'] == customer]\n",
    "\n",
    "    may_rental = customer_query['may_rental'].values[0]\n",
    "    june_rental = customer_query['june_rental'].values[0]\n",
    "\n",
    "    if may_rental > june_rental:\n",
    "        print('Customer with ID:', customer, 'borrowed more films in May.')\n",
    "    elif may_rental < june_rental:\n",
    "        print('Customer with ID:', customer, 'borrowed more films in June.')\n",
    "    else:\n",
    "        print('Customer with ID:', customer, 'borrowed the same number of films in May and June.')"
   ]
  },
  {
   "cell_type": "code",
   "execution_count": 57,
   "id": "d509d513",
   "metadata": {},
   "outputs": [
    {
     "name": "stdout",
     "output_type": "stream",
     "text": [
      "Enter the customer id:599\n",
      "Customer with ID: 599 borrowed more films in June.\n",
      "     customer_id  may_rental  june_rental\n",
      "0              1         2.0          7.0\n",
      "1              2         1.0          1.0\n",
      "2              3         2.0          4.0\n",
      "3              4         0.0          6.0\n",
      "4              5         3.0          5.0\n",
      "..           ...         ...          ...\n",
      "593          595         1.0          2.0\n",
      "594          596         6.0          2.0\n",
      "595          597         2.0          3.0\n",
      "596          598         0.0          1.0\n",
      "597          599         1.0          4.0\n",
      "\n",
      "[598 rows x 3 columns]\n"
     ]
    }
   ],
   "source": [
    "customer_rental_comparator(df_may, df_june)"
   ]
  },
  {
   "cell_type": "code",
   "execution_count": null,
   "id": "2776943c",
   "metadata": {},
   "outputs": [],
   "source": []
  }
 ],
 "metadata": {
  "kernelspec": {
   "display_name": "Python 3 (ipykernel)",
   "language": "python",
   "name": "python3"
  },
  "language_info": {
   "codemirror_mode": {
    "name": "ipython",
    "version": 3
   },
   "file_extension": ".py",
   "mimetype": "text/x-python",
   "name": "python",
   "nbconvert_exporter": "python",
   "pygments_lexer": "ipython3",
   "version": "3.9.13"
  }
 },
 "nbformat": 4,
 "nbformat_minor": 5
}
